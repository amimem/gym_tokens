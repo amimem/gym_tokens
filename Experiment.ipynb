{
 "nbformat": 4,
 "nbformat_minor": 2,
 "metadata": {
  "language_info": {
   "name": "python",
   "codemirror_mode": {
    "name": "ipython",
    "version": 2
   },
   "version": "3.8.1-final"
  },
  "orig_nbformat": 2,
  "file_extension": ".py",
  "mimetype": "text/x-python",
  "name": "python",
  "npconvert_exporter": "python",
  "pygments_lexer": "ipython2",
  "version": 2,
  "kernelspec": {
   "name": "python38164bittokensconda95c26ce44a19464f8ff1f368bb27a8f0",
   "display_name": "Python 3.8.1 64-bit ('tokens': conda)"
  }
 },
 "cells": [
  {
   "cell_type": "code",
   "execution_count": 3,
   "metadata": {},
   "outputs": [],
   "source": [
    "# This notebook is for hyperparameter tuning"
   ]
  },
  {
   "cell_type": "code",
   "execution_count": 1,
   "metadata": {},
   "outputs": [],
   "source": [
    "import gym\n",
    "import argparse\n",
    "import random\n",
    "\n",
    "import time\n",
    "import datetime\n",
    "import sys\n",
    "import lib\n",
    "import utils\n",
    "\n",
    "import numpy as np"
   ]
  },
  {
   "cell_type": "code",
   "execution_count": 8,
   "metadata": {},
   "outputs": [],
   "source": [
    "def seed(seed):\n",
    "    random.seed(seed)\n",
    "    numpy.random.seed(seed)"
   ]
  },
  {
   "cell_type": "code",
   "execution_count": 3,
   "metadata": {},
   "outputs": [],
   "source": [
    "num_actions = 3"
   ]
  },
  {
   "cell_type": "code",
   "execution_count": 13,
   "metadata": {},
   "outputs": [],
   "source": [
    "def _sign(num):\n",
    "\n",
    "\tif num < 0:\n",
    "\t\treturn -1\n",
    "\n",
    "\telif num > 0:\n",
    "\t\treturn 1\n",
    "\n",
    "\telse:\n",
    "\t\treturn 0"
   ]
  },
  {
   "cell_type": "code",
   "execution_count": 30,
   "metadata": {},
   "outputs": [],
   "source": [
    "class Args():\n",
    "    def __init__(self, games = 10000, env = 'tokens-v0', seed = 0, log_interval = 1, algo = 'q-learning', convg = 0.00001, lr = 0.1, lr_final = 0.0001, save_interval = 2000, eps_start = 1.0, eps_final = 0.01, eps_games = 10000, gamma = 0.99, height = 15, fancy_discount = False, fast_block = False, fancy_eps = False, tmp_start = 1.0, tmp_final = 0.1, tmp_games = 10000, softmax = False, eps_soft = False):\n",
    "        self.games = games\n",
    "        self.env = env\n",
    "        self.seed = seed\n",
    "        self.log_interval = log_interval\n",
    "        self.algo = algo\n",
    "        self.convg = convg\n",
    "        self.lr = lr\n",
    "        self.lr_final = lr_final\n",
    "        self.save_interval = save_interval\n",
    "        self.eps_start = eps_start\n",
    "        self.eps_final = eps_final\n",
    "        self.eps_games = eps_games\n",
    "        self.games = gamma\n",
    "        self.height = height\n",
    "        self.fancy_discount = fancy_discount\n",
    "        self.fast_block = fast_block\n",
    "        self.fancy_eps = fancy_eps\n",
    "        self.tmp_start = tmp_start\n",
    "        self.tmp_final = tmp_final\n",
    "        self.tmp_games = tmp_games\n",
    "        self.softmax = softmax\n",
    "        self.eps_soft = eps_soft"
   ]
  },
  {
   "cell_type": "code",
   "execution_count": 33,
   "metadata": {},
   "outputs": [],
   "source": [
    "args = Args()\n",
    "\n",
    "#create train dir\n",
    "date = datetime.datetime.now().strftime(\"%y-%m-%d-%H-%M-%S\")\n",
    "default_model_name = f\"{args.env}_{args.algo}_seed{args.seed}_{date}\"\n",
    "\n",
    "model_name = default_model_name\n",
    "model_dir = utils.get_model_dir(model_name)"
   ]
  },
  {
   "cell_type": "code",
   "execution_count": 17,
   "metadata": {},
   "outputs": [
    {
     "output_type": "error",
     "ename": "NameError",
     "evalue": "name 'model_dir' is not defined",
     "traceback": [
      "\u001b[0;31m---------------------------------------------------------------------------\u001b[0m",
      "\u001b[0;31mNameError\u001b[0m                                 Traceback (most recent call last)",
      "\u001b[0;32m<ipython-input-17-49059674a91c>\u001b[0m in \u001b[0;36m<module>\u001b[0;34m\u001b[0m\n\u001b[1;32m      1\u001b[0m \u001b[0;31m# Load loggers and Tensorboard writer\u001b[0m\u001b[0;34m\u001b[0m\u001b[0;34m\u001b[0m\u001b[0;34m\u001b[0m\u001b[0m\n\u001b[1;32m      2\u001b[0m \u001b[0;34m\u001b[0m\u001b[0m\n\u001b[0;32m----> 3\u001b[0;31m \u001b[0mtxt_logger\u001b[0m \u001b[0;34m=\u001b[0m \u001b[0mutils\u001b[0m\u001b[0;34m.\u001b[0m\u001b[0mget_txt_logger\u001b[0m\u001b[0;34m(\u001b[0m\u001b[0mmodel_dir\u001b[0m\u001b[0;34m)\u001b[0m\u001b[0;34m\u001b[0m\u001b[0;34m\u001b[0m\u001b[0m\n\u001b[0m\u001b[1;32m      4\u001b[0m \u001b[0mcsv_file\u001b[0m\u001b[0;34m,\u001b[0m \u001b[0mcsv_logger\u001b[0m \u001b[0;34m=\u001b[0m \u001b[0mutils\u001b[0m\u001b[0;34m.\u001b[0m\u001b[0mget_csv_logger\u001b[0m\u001b[0;34m(\u001b[0m\u001b[0mmodel_dir\u001b[0m\u001b[0;34m)\u001b[0m\u001b[0;34m\u001b[0m\u001b[0;34m\u001b[0m\u001b[0m\n",
      "\u001b[0;31mNameError\u001b[0m: name 'model_dir' is not defined"
     ]
    }
   ],
   "source": [
    "# Load loggers and Tensorboard writer\n",
    "\n",
    "txt_logger = utils.get_txt_logger(model_dir)\n",
    "csv_file, csv_logger = utils.get_csv_logger(model_dir)"
   ]
  },
  {
   "cell_type": "code",
   "execution_count": 18,
   "metadata": {},
   "outputs": [
    {
     "output_type": "error",
     "ename": "NameError",
     "evalue": "name 'txt_logger' is not defined",
     "traceback": [
      "\u001b[0;31m---------------------------------------------------------------------------\u001b[0m",
      "\u001b[0;31mNameError\u001b[0m                                 Traceback (most recent call last)",
      "\u001b[0;32m<ipython-input-18-8c030bb72f23>\u001b[0m in \u001b[0;36m<module>\u001b[0;34m\u001b[0m\n\u001b[1;32m      1\u001b[0m \u001b[0;31m# Log command and all script arguments\u001b[0m\u001b[0;34m\u001b[0m\u001b[0;34m\u001b[0m\u001b[0;34m\u001b[0m\u001b[0m\n\u001b[1;32m      2\u001b[0m \u001b[0;34m\u001b[0m\u001b[0m\n\u001b[0;32m----> 3\u001b[0;31m \u001b[0mtxt_logger\u001b[0m\u001b[0;34m.\u001b[0m\u001b[0minfo\u001b[0m\u001b[0;34m(\u001b[0m\u001b[0;34m\"{}\\n\"\u001b[0m\u001b[0;34m.\u001b[0m\u001b[0mformat\u001b[0m\u001b[0;34m(\u001b[0m\u001b[0;34m\" \"\u001b[0m\u001b[0;34m.\u001b[0m\u001b[0mjoin\u001b[0m\u001b[0;34m(\u001b[0m\u001b[0msys\u001b[0m\u001b[0;34m.\u001b[0m\u001b[0margv\u001b[0m\u001b[0;34m)\u001b[0m\u001b[0;34m)\u001b[0m\u001b[0;34m)\u001b[0m\u001b[0;34m\u001b[0m\u001b[0;34m\u001b[0m\u001b[0m\n\u001b[0m\u001b[1;32m      4\u001b[0m \u001b[0mtxt_logger\u001b[0m\u001b[0;34m.\u001b[0m\u001b[0minfo\u001b[0m\u001b[0;34m(\u001b[0m\u001b[0;34m\"{}\\n\"\u001b[0m\u001b[0;34m.\u001b[0m\u001b[0mformat\u001b[0m\u001b[0;34m(\u001b[0m\u001b[0margs\u001b[0m\u001b[0;34m)\u001b[0m\u001b[0;34m)\u001b[0m\u001b[0;34m\u001b[0m\u001b[0;34m\u001b[0m\u001b[0m\n",
      "\u001b[0;31mNameError\u001b[0m: name 'txt_logger' is not defined"
     ]
    }
   ],
   "source": [
    "# Log command and all script arguments\n",
    "\n",
    "txt_logger.info(\"{}\\n\".format(\" \".join(sys.argv)))\n",
    "txt_logger.info(\"{}\\n\".format(args))"
   ]
  },
  {
   "cell_type": "code",
   "execution_count": 19,
   "metadata": {},
   "outputs": [
    {
     "output_type": "error",
     "ename": "NameError",
     "evalue": "name 'args' is not defined",
     "traceback": [
      "\u001b[0;31m---------------------------------------------------------------------------\u001b[0m",
      "\u001b[0;31mNameError\u001b[0m                                 Traceback (most recent call last)",
      "\u001b[0;32m<ipython-input-19-b3b989310df0>\u001b[0m in \u001b[0;36m<module>\u001b[0;34m\u001b[0m\n\u001b[1;32m      1\u001b[0m \u001b[0;31m# Set seed for all randomness sources\u001b[0m\u001b[0;34m\u001b[0m\u001b[0;34m\u001b[0m\u001b[0;34m\u001b[0m\u001b[0m\n\u001b[0;32m----> 2\u001b[0;31m \u001b[0mutils\u001b[0m\u001b[0;34m.\u001b[0m\u001b[0mseed\u001b[0m\u001b[0;34m(\u001b[0m\u001b[0margs\u001b[0m\u001b[0;34m.\u001b[0m\u001b[0mseed\u001b[0m\u001b[0;34m)\u001b[0m\u001b[0;34m\u001b[0m\u001b[0;34m\u001b[0m\u001b[0m\n\u001b[0m\u001b[1;32m      3\u001b[0m \u001b[0;34m\u001b[0m\u001b[0m\n\u001b[1;32m      4\u001b[0m \u001b[0mnumNT\u001b[0m \u001b[0;34m=\u001b[0m \u001b[0;34m(\u001b[0m\u001b[0margs\u001b[0m\u001b[0;34m.\u001b[0m\u001b[0mheight\u001b[0m \u001b[0;34m*\u001b[0m \u001b[0;36m2\u001b[0m\u001b[0;34m)\u001b[0m \u001b[0;34m+\u001b[0m \u001b[0;36m1\u001b[0m\u001b[0;34m\u001b[0m\u001b[0;34m\u001b[0m\u001b[0m\n\u001b[1;32m      5\u001b[0m \u001b[0mnumHT\u001b[0m \u001b[0;34m=\u001b[0m \u001b[0;34m(\u001b[0m\u001b[0margs\u001b[0m\u001b[0;34m.\u001b[0m\u001b[0mheight\u001b[0m \u001b[0;34m*\u001b[0m \u001b[0;36m2\u001b[0m\u001b[0;34m)\u001b[0m \u001b[0;34m+\u001b[0m \u001b[0;36m1\u001b[0m\u001b[0;34m\u001b[0m\u001b[0;34m\u001b[0m\u001b[0m\n",
      "\u001b[0;31mNameError\u001b[0m: name 'args' is not defined"
     ]
    }
   ],
   "source": [
    "# Set seed for all randomness sources\n",
    "utils.seed(args.seed)"
   ]
  },
  {
   "cell_type": "code",
   "execution_count": 20,
   "metadata": {},
   "outputs": [
    {
     "output_type": "error",
     "ename": "NameError",
     "evalue": "name 'args' is not defined",
     "traceback": [
      "\u001b[0;31m---------------------------------------------------------------------------\u001b[0m",
      "\u001b[0;31mNameError\u001b[0m                                 Traceback (most recent call last)",
      "\u001b[0;32m<ipython-input-20-f0c0394157e1>\u001b[0m in \u001b[0;36m<module>\u001b[0;34m\u001b[0m\n\u001b[0;32m----> 1\u001b[0;31m \u001b[0mnumNT\u001b[0m \u001b[0;34m=\u001b[0m \u001b[0;34m(\u001b[0m\u001b[0margs\u001b[0m\u001b[0;34m.\u001b[0m\u001b[0mheight\u001b[0m \u001b[0;34m*\u001b[0m \u001b[0;36m2\u001b[0m\u001b[0;34m)\u001b[0m \u001b[0;34m+\u001b[0m \u001b[0;36m1\u001b[0m\u001b[0;34m\u001b[0m\u001b[0;34m\u001b[0m\u001b[0m\n\u001b[0m\u001b[1;32m      2\u001b[0m \u001b[0mnumHT\u001b[0m \u001b[0;34m=\u001b[0m \u001b[0;34m(\u001b[0m\u001b[0margs\u001b[0m\u001b[0;34m.\u001b[0m\u001b[0mheight\u001b[0m \u001b[0;34m*\u001b[0m \u001b[0;36m2\u001b[0m\u001b[0;34m)\u001b[0m \u001b[0;34m+\u001b[0m \u001b[0;36m1\u001b[0m\u001b[0;34m\u001b[0m\u001b[0;34m\u001b[0m\u001b[0m\n\u001b[1;32m      3\u001b[0m \u001b[0;34m\u001b[0m\u001b[0m\n\u001b[1;32m      4\u001b[0m \u001b[0;32mif\u001b[0m \u001b[0margs\u001b[0m\u001b[0;34m.\u001b[0m\u001b[0mfast_block\u001b[0m\u001b[0;34m:\u001b[0m\u001b[0;34m\u001b[0m\u001b[0;34m\u001b[0m\u001b[0m\n\u001b[1;32m      5\u001b[0m     \u001b[0mblock_discount\u001b[0m \u001b[0;34m=\u001b[0m \u001b[0;36m0.25\u001b[0m\u001b[0;34m\u001b[0m\u001b[0;34m\u001b[0m\u001b[0m\n",
      "\u001b[0;31mNameError\u001b[0m: name 'args' is not defined"
     ]
    }
   ],
   "source": [
    "numNT = (args.height * 2) + 1 \n",
    "numHT = (args.height * 2) + 1\n",
    "\n",
    "if args.fast_block:\n",
    "    block_discount = 0.25\n",
    "\n",
    "else:\n",
    "    block_discount = 0.75"
   ]
  },
  {
   "cell_type": "code",
   "execution_count": 21,
   "metadata": {},
   "outputs": [
    {
     "output_type": "error",
     "ename": "NameError",
     "evalue": "name 'block_discount' is not defined",
     "traceback": [
      "\u001b[0;31m---------------------------------------------------------------------------\u001b[0m",
      "\u001b[0;31mNameError\u001b[0m                                 Traceback (most recent call last)",
      "\u001b[0;32m<ipython-input-21-2bf7c54dc581>\u001b[0m in \u001b[0;36m<module>\u001b[0;34m\u001b[0m\n\u001b[0;32m----> 1\u001b[0;31m \u001b[0menv\u001b[0m \u001b[0;34m=\u001b[0m \u001b[0mgym\u001b[0m\u001b[0;34m.\u001b[0m\u001b[0mmake\u001b[0m\u001b[0;34m(\u001b[0m\u001b[0;34m'tokens-v0'\u001b[0m\u001b[0;34m,\u001b[0m \u001b[0mgamma\u001b[0m\u001b[0;34m=\u001b[0m\u001b[0mblock_discount\u001b[0m\u001b[0;34m,\u001b[0m \u001b[0mseed\u001b[0m\u001b[0;34m=\u001b[0m\u001b[0margs\u001b[0m\u001b[0;34m.\u001b[0m\u001b[0mseed\u001b[0m\u001b[0;34m,\u001b[0m \u001b[0mterminal\u001b[0m\u001b[0;34m=\u001b[0m\u001b[0margs\u001b[0m\u001b[0;34m.\u001b[0m\u001b[0mheight\u001b[0m\u001b[0;34m,\u001b[0m \u001b[0mfancy_discount\u001b[0m\u001b[0;34m=\u001b[0m\u001b[0margs\u001b[0m\u001b[0;34m.\u001b[0m\u001b[0mfancy_discount\u001b[0m\u001b[0;34m)\u001b[0m\u001b[0;34m\u001b[0m\u001b[0;34m\u001b[0m\u001b[0m\n\u001b[0m\u001b[1;32m      2\u001b[0m \u001b[0mtxt_logger\u001b[0m\u001b[0;34m.\u001b[0m\u001b[0minfo\u001b[0m\u001b[0;34m(\u001b[0m\u001b[0;34m\"Environments loaded\\n\"\u001b[0m\u001b[0;34m)\u001b[0m\u001b[0;34m\u001b[0m\u001b[0;34m\u001b[0m\u001b[0m\n",
      "\u001b[0;31mNameError\u001b[0m: name 'block_discount' is not defined"
     ]
    }
   ],
   "source": [
    "env = gym.make('tokens-v0', gamma=block_discount, seed=args.seed, terminal=args.height, fancy_discount=args.fancy_discount)\n",
    "txt_logger.info(\"Environments loaded\\n\")"
   ]
  },
  {
   "cell_type": "code",
   "execution_count": 22,
   "metadata": {},
   "outputs": [
    {
     "output_type": "error",
     "ename": "NameError",
     "evalue": "name 'txt_logger' is not defined",
     "traceback": [
      "\u001b[0;31m---------------------------------------------------------------------------\u001b[0m",
      "\u001b[0;31mNameError\u001b[0m                                 Traceback (most recent call last)",
      "\u001b[0;32m<ipython-input-22-0f45ab5e46a6>\u001b[0m in \u001b[0;36m<module>\u001b[0;34m\u001b[0m\n\u001b[1;32m      6\u001b[0m \u001b[0;31m#       status = {\"num_frames\": 0, \"update\": 0, \"num_games\":0}\u001b[0m\u001b[0;34m\u001b[0m\u001b[0;34m\u001b[0m\u001b[0;34m\u001b[0m\u001b[0m\n\u001b[1;32m      7\u001b[0m \u001b[0mstatus\u001b[0m \u001b[0;34m=\u001b[0m \u001b[0;34m{\u001b[0m\u001b[0;34m\"num_frames\"\u001b[0m\u001b[0;34m:\u001b[0m \u001b[0;36m0\u001b[0m\u001b[0;34m,\u001b[0m \u001b[0;34m\"update\"\u001b[0m\u001b[0;34m:\u001b[0m \u001b[0;36m0\u001b[0m\u001b[0;34m,\u001b[0m \u001b[0;34m\"num_games\"\u001b[0m\u001b[0;34m:\u001b[0m\u001b[0;36m0\u001b[0m\u001b[0;34m}\u001b[0m\u001b[0;34m\u001b[0m\u001b[0;34m\u001b[0m\u001b[0m\n\u001b[0;32m----> 8\u001b[0;31m \u001b[0mtxt_logger\u001b[0m\u001b[0;34m.\u001b[0m\u001b[0minfo\u001b[0m\u001b[0;34m(\u001b[0m\u001b[0;34m\"Training status loaded\\n\"\u001b[0m\u001b[0;34m)\u001b[0m\u001b[0;34m\u001b[0m\u001b[0;34m\u001b[0m\u001b[0m\n\u001b[0m\u001b[1;32m      9\u001b[0m \u001b[0;34m\u001b[0m\u001b[0m\n\u001b[1;32m     10\u001b[0m \u001b[0mnum_states\u001b[0m \u001b[0;34m=\u001b[0m \u001b[0menv\u001b[0m\u001b[0;34m.\u001b[0m\u001b[0mget_num_states\u001b[0m\u001b[0;34m(\u001b[0m\u001b[0;34m)\u001b[0m\u001b[0;34m\u001b[0m\u001b[0;34m\u001b[0m\u001b[0m\n",
      "\u001b[0;31mNameError\u001b[0m: name 'txt_logger' is not defined"
     ]
    }
   ],
   "source": [
    "# Load training status\n",
    "\n",
    "# try:\n",
    "# \tstatus = utils.get_status(model_dir)\n",
    "# except OSError:\n",
    "# \tstatus = {\"num_frames\": 0, \"update\": 0, \"num_games\":0}\n",
    "status = {\"num_frames\": 0, \"update\": 0, \"num_games\":0}\n",
    "txt_logger.info(\"Training status loaded\\n\")\n",
    "\n",
    "num_states = env.get_num_states()\n",
    "num_actions = env.get_num_actions()\n",
    "num_games_frames = args.height * args.games"
   ]
  },
  {
   "cell_type": "code",
   "execution_count": 24,
   "metadata": {},
   "outputs": [
    {
     "output_type": "error",
     "ename": "SyntaxError",
     "evalue": "invalid syntax (<ipython-input-24-f8e43a7ef015>, line 6)",
     "traceback": [
      "\u001b[0;36m  File \u001b[0;32m\"<ipython-input-24-f8e43a7ef015>\"\u001b[0;36m, line \u001b[0;32m6\u001b[0m\n\u001b[0;31m    tmp_track = lib.TemperatureTracker(args.tmp_start args.tmp_final, args.tmp_games, policy)\u001b[0m\n\u001b[0m                                                      ^\u001b[0m\n\u001b[0;31mSyntaxError\u001b[0m\u001b[0;31m:\u001b[0m invalid syntax\n"
     ]
    }
   ],
   "source": [
    "# model = lib.Q_Table(env.get_num_states(), env.get_num_actions(), (numNT, numHT), args.convg)\n",
    "model = lib.Q_Table(numNT*numHT*(args.height+2), num_actions, (numNT, numHT, args.height), args.convg, args.height)\n",
    "\n",
    "if args.softmax:\n",
    "    policy = lib.SoftmaxPolicy()\n",
    "    tmp_track = lib.TemperatureTracker(args.tmp_start args.tmp_final, args.tmp_games, policy)\n",
    "\n",
    "if args.eps_soft:\n",
    "    policy = lib.EpsilonSoftPolicy()\n",
    "    eps_track = lib.EpsilonTracker(args.eps_start,args.eps_final, args.eps_games, policy)\n",
    "\n",
    "if args.fancy_eps:\n",
    "    #TODO\n",
    "    policy = lib.EpsilonGreedyGamePolicy()\n",
    "    eps_track = lib.EpsilonTracker(args.eps_start,args.eps_final, args.eps_games, policy)\n",
    "else:\n",
    "    policy = lib.EpsilonGreedyPolicy()\n",
    "    eps_track = lib.EpsilonTracker(args.eps_start,args.eps_final, args.eps_games*args.height, policy)\n",
    "\n",
    "if args.algo == 'sarsa': \n",
    "    monkeyAgent = lib.SarsaAgent(policy, model, args.height)\n",
    "elif args.algo == 'q-learning':\n",
    "    monkeyAgent = lib.QlAgent(policy, model, args.height)"
   ]
  },
  {
   "cell_type": "code",
   "execution_count": 25,
   "metadata": {},
   "outputs": [
    {
     "output_type": "error",
     "ename": "NameError",
     "evalue": "name 'args' is not defined",
     "traceback": [
      "\u001b[0;31m---------------------------------------------------------------------------\u001b[0m",
      "\u001b[0;31mNameError\u001b[0m                                 Traceback (most recent call last)",
      "\u001b[0;32m<ipython-input-25-0a7539a6c7f1>\u001b[0m in \u001b[0;36m<module>\u001b[0;34m\u001b[0m\n\u001b[0;32m----> 1\u001b[0;31m \u001b[0mlr_sched\u001b[0m \u001b[0;34m=\u001b[0m \u001b[0mlib\u001b[0m\u001b[0;34m.\u001b[0m\u001b[0mLRscheduler\u001b[0m\u001b[0;34m(\u001b[0m\u001b[0margs\u001b[0m\u001b[0;34m.\u001b[0m\u001b[0mlr\u001b[0m\u001b[0;34m,\u001b[0m \u001b[0margs\u001b[0m\u001b[0;34m.\u001b[0m\u001b[0mlr_final\u001b[0m\u001b[0;34m,\u001b[0m \u001b[0margs\u001b[0m\u001b[0;34m.\u001b[0m\u001b[0mgames\u001b[0m\u001b[0;34m*\u001b[0m\u001b[0margs\u001b[0m\u001b[0;34m.\u001b[0m\u001b[0mheight\u001b[0m\u001b[0;34m*\u001b[0m\u001b[0;36m10\u001b[0m\u001b[0;34m*\u001b[0m\u001b[0;36m0.8\u001b[0m\u001b[0;34m)\u001b[0m\u001b[0;34m\u001b[0m\u001b[0;34m\u001b[0m\u001b[0m\n\u001b[0m",
      "\u001b[0;31mNameError\u001b[0m: name 'args' is not defined"
     ]
    }
   ],
   "source": [
    "lr_sched = lib.LRscheduler(args.lr, args.lr_final, args.games*args.height*10*0.8)"
   ]
  },
  {
   "cell_type": "code",
   "execution_count": 28,
   "metadata": {},
   "outputs": [
    {
     "output_type": "error",
     "ename": "NameError",
     "evalue": "name 'env' is not defined",
     "traceback": [
      "\u001b[0;31m---------------------------------------------------------------------------\u001b[0m",
      "\u001b[0;31mNameError\u001b[0m                                 Traceback (most recent call last)",
      "\u001b[0;32m<ipython-input-28-70721228d6df>\u001b[0m in \u001b[0;36m<module>\u001b[0;34m\u001b[0m\n\u001b[1;32m      9\u001b[0m \u001b[0;34m\u001b[0m\u001b[0m\n\u001b[1;32m     10\u001b[0m \u001b[0;34m\u001b[0m\u001b[0m\n\u001b[0;32m---> 11\u001b[0;31m \u001b[0mstate\u001b[0m\u001b[0;34m,\u001b[0m \u001b[0mgame_time_step\u001b[0m  \u001b[0;34m=\u001b[0m \u001b[0menv\u001b[0m\u001b[0;34m.\u001b[0m\u001b[0mreset\u001b[0m\u001b[0;34m(\u001b[0m\u001b[0;34m)\u001b[0m\u001b[0;34m\u001b[0m\u001b[0;34m\u001b[0m\u001b[0m\n\u001b[0m\u001b[1;32m     12\u001b[0m \u001b[0mdecisionTime\u001b[0m \u001b[0;34m=\u001b[0m \u001b[0;34m[\u001b[0m\u001b[0;34m]\u001b[0m\u001b[0;34m\u001b[0m\u001b[0;34m\u001b[0m\u001b[0m\n\u001b[1;32m     13\u001b[0m \u001b[0mlossPerEpisode\u001b[0m \u001b[0;34m=\u001b[0m \u001b[0;34m[\u001b[0m\u001b[0;34m]\u001b[0m\u001b[0;34m\u001b[0m\u001b[0;34m\u001b[0m\u001b[0m\n",
      "\u001b[0;31mNameError\u001b[0m: name 'env' is not defined"
     ]
    }
   ],
   "source": [
    "num_frames = status[\"num_frames\"]\n",
    "update = status[\"update\"]\n",
    "num_games = status[\"num_games\"]\n",
    "num_games_prevs = 0\n",
    "\n",
    "start_time = time.time()\n",
    "totalReturns = [] \n",
    "totalLoss = []\n",
    "\n",
    "\n",
    "state, game_time_step  = env.reset()\n",
    "decisionTime = []\n",
    "lossPerEpisode = []\n",
    "train_info = []\n",
    "\n",
    "last_choice = 0\n",
    "\n",
    "decisionTime = np.zeros(shape=((args.height*2)+1))"
   ]
  },
  {
   "cell_type": "code",
   "execution_count": 29,
   "metadata": {},
   "outputs": [],
   "source": [
    "traj = []\n",
    "traj_group = []\n",
    "\n",
    "choice_made = []\n",
    "correct_choice = []\n",
    "finalDecisionTime = []\n",
    "finalRewardPerGame = []\n",
    "numCorrectChoice = 0\n",
    "numRecentCorrectChoice = []"
   ]
  },
  {
   "cell_type": "code",
   "execution_count": null,
   "metadata": {},
   "outputs": [],
   "source": [
    "while num_frames <= num_games_frames: \n",
    "\n",
    "\t\ttraj.append(state[0].tolist())\n",
    "\n",
    "\t\tif args.fancy_eps:\n",
    "\t\t\teps_track.set_eps(num_games)\n",
    "\n",
    "\t\telse:\n",
    "\t\t\teps_track.set_eps(num_frames)\n",
    "\n",
    "\t\taction = monkeyAgent.get_actions(state, game_time_step)\n",
    "\n",
    "\t\tnext_state, reward, is_done, game_time_step = env.step(action)\n",
    "\n",
    "\t\t# print('next_state: ', next_state)\n",
    "\t\t# print('action: ', action)\n",
    "\t\t# print('is done: ', is_done)\n",
    "\t\t# print('game_time_step: ', game_time_step)\n",
    "\t\t# print('state: ', state)\n",
    "\n",
    "\t\tlr = lr_sched.get_lr(num_frames)\n",
    "\t\t\n",
    "\t\tnext_act = monkeyAgent.get_actions(next_state, game_time_step)\n",
    "\t\tloss = model.get_TDerror(state, action, next_state, next_act, reward, args.gamma, is_done, args.algo)\n",
    "\t\tconverged = model.update_qVal(lr, state, action, loss)\n",
    "\t\ttotalLoss.append(loss)\n",
    "\n",
    "\t\tif is_done:\n",
    "\t\t\tnum_games+=1\n",
    "\t\t\ttotalReturns.append(reward)\n",
    "\n",
    "\t\t\tif reward > 0:\n",
    "\t\t\t\tnumCorrectChoice += 1\n",
    "\t\t\t\tnumRecentCorrectChoice.append(1)\n",
    "\t\t\telse:\n",
    "\t\t\t\tnumRecentCorrectChoice.append(0)\n",
    "\n",
    "\t\t\tlossPerEpisode.append(np.sum(totalLoss))\n",
    "\t\t\ttotalLoss = []\n",
    "\n",
    "\t\t\tdecision_step = model._augState(abs(next_state[1]))\n",
    "\t\t\tdecisionTime[decision_step-1] += 1\n",
    "\n",
    "\t\t\tif abs(next_state[1]) == args.height+1:\n",
    "\t\t\t\tlast_choice += 1\n",
    "\n",
    "\t\t\tchoice_made.append(_sign(next_state[1]))\n",
    "\t\t\tcorrect_choice.append(_sign(next_state[0]))\n",
    "\t\t\tfinalDecisionTime.append(abs(next_state[1]))\n",
    "\t\t\tfinalRewardPerGame.append(reward)\n",
    "\n",
    "\t\t\ttraj_group.append(traj)\n",
    "\t\t\ttraj = []\n",
    "\t\t\tnext_state, game_time_step = env.reset()\n",
    "\n",
    "\t\telse:\n",
    "\t\t\tnum_frames+=1 \n",
    "\t\t\tupdate+= 1\n",
    "\n",
    "\t\tstate = next_state\n",
    "\n",
    "\n",
    "\t\tif num_games > num_games_prevs and num_games % args.log_interval == 0:\n",
    "\t\t\tduration = int(time.time() - start_time)\n",
    "\t\t\ttotalLoss_val = np.sum(lossPerEpisode)\n",
    "\t\t\ttotalReturn_val = np.sum(totalReturns)\n",
    "\n",
    "\t\t\tavg_loss = np.mean(lossPerEpisode[-1000:])\n",
    "\t\t\tavg_returns = np.mean(totalReturns[-1000:])\n",
    "\t\t\trecent_correct = np.mean(numRecentCorrectChoice[-1000:])\n",
    "\n",
    "\t\t\theader = [\"update\", \"frames\", \"Games\", \"duration\"]\n",
    "\t\t\tdata = [update, num_frames, num_games, duration]\n",
    "\n",
    "\t\t\tif args.softmax:\n",
    "\t\t\t\theader += [\"tmp\", \"lr\", \"last\"]\n",
    "\t\t\t\tdata += [policy.temperature, lr, last_choice]\n",
    "\t\t\telse:\n",
    "\t\t\t\theader += [\"eps\", \"lr\", \"last\"]\n",
    "\t\t\t\tdata += [policy.epsilon, lr, last_choice]\n",
    "\n",
    "\t\t\theader += [\"Loss\", \"Returns\", \"Avg Loss\", \"Avg Returns\", \"Correct Percentage\", \"Recent Correct\", \"decision_time\"]\n",
    "\t\t\tdata += [totalLoss_val.item(), totalReturn_val.item(), avg_loss.item(), avg_returns.item(), numCorrectChoice/num_games, recent_correct, finalDecisionTime[num_games_prevs]]\n",
    "\n",
    "\t\t\tif args.softmax:\n",
    "\t\t\t\ttxt_logger.info(\n",
    "\t\t\t\t\t\"U {} | F {} | G {} | D {} | TMP {:.3f} | LR {:.5f} | Last {} | L {:.3f} | R {:.3f} | Avg L {:.3f} | Avg R {:.3f} | Avg C {:.3f} | Rec C {:.3f} | DT {}\"\n",
    "\t\t\t\t\t.format(*data))\n",
    "\t\t\telse:\n",
    "\t\t\t\ttxt_logger.info(\n",
    "\t\t\t\t\t\"U {} | F {} | G {} | D {} | EPS {:.3f} | LR {:.5f} | Last {} | L {:.3f} | R {:.3f} | Avg L {:.3f} | Avg R {:.3f} | Avg C {:.3f} | Rec C {:.3f} | DT {}\"\n",
    "\t\t\t\t\t.format(*data))\n",
    "\n",
    "\t\t\t# header += [\"Loss\", \"Returns\", \"Avg Loss\", \"Avg Returns\"]\n",
    "\t\t\t# data += [totalLoss_val, totalReturn_val, avg_loss, avg_returns]\n",
    "\n",
    "\t\t\tcsv_header = [\"trajectory\", \"choice_made\", \"correct_choice\", \"decision_time\", \"reward_received\"]\n",
    "\t\t\tcsv_data = [traj_group[num_games_prevs], choice_made[num_games_prevs], correct_choice[num_games_prevs], finalDecisionTime[num_games_prevs], finalRewardPerGame[num_games_prevs]]\n",
    "\n",
    "\t\t\t# print(traj_group[num_games_prevs])\n",
    "\t\t\t# print(choice_made[num_games_prevs])\n",
    "\n",
    "\t\t\tif num_games == 1:\n",
    "\t\t\t\tcsv_logger.writerow(csv_header)\n",
    "\t\t\tcsv_logger.writerow(csv_data)\n",
    "\t\t\tcsv_file.flush()\n",
    "\n",
    "\t\t\tnum_games_prevs = num_games\n",
    "\n",
    "\t\t# Save status\n",
    "\t\tif args.save_interval > 0 and num_games % args.save_interval == 0:\n",
    "\t\t\t# status = {\"num_frames\": num_frames, \"update\": update, \"games\": num_games, \"totalReturns\" : totalReturns}\n",
    "\t\t\tmodel.save_q_state(model_dir, num_games)\n",
    "\t\t\tnp.save(model_dir+'/decisionTime_'+str(num_games)+'.npy', decisionTime)\n",
    "\t\t\t# txt_logger.info(\"Status saved\")\n",
    "\t\t\t# utils.save_status(status, model_dir)"
   ]
  }
 ]
}